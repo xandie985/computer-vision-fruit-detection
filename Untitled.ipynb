{
 "cells": [
  {
   "cell_type": "code",
   "execution_count": null,
   "metadata": {},
   "outputs": [],
   "source": [
    "import cv2 as cv\n",
    "import numpy as np\n",
    "from matplotlib import pyplot as plt\n",
    "import heapq\n",
    "import pandas as pd\n",
    "import matplotlib.cm as cm\n",
    "import scipy.io as sio\n",
    "import random\n",
    "%matplotlib inline\n",
    "\n",
    "img1_gray = cv.imread(\"fruit-inspection-images/first task/C0_000001.png\", cv.IMREAD_GRAYSCALE)\n",
    "img2_gray = cv.imread(\"fruit-inspection-images/first task/C0_000002.png\", cv.IMREAD_GRAYSCALE)\n",
    "img3_gray = cv.imread(\"fruit-inspection-images/first task/C0_000003.png\", cv.IMREAD_GRAYSCALE)\n",
    "\n",
    "img1_color = cv.cvtColor(cv.imread(\"fruit-inspection-images/first task/C1_000001.png\", cv.IMREAD_COLOR),cv.COLOR_BGR2RGB) \n",
    "img2_color = cv.cvtColor(cv.imread(\"fruit-inspection-images/first task/C1_000002.png\", cv.IMREAD_COLOR),cv.COLOR_BGR2RGB) \n",
    "img3_color = cv.cvtColor(cv.imread(\"fruit-inspection-images/first task/C1_000003.png\", cv.IMREAD_COLOR),cv.COLOR_BGR2RGB)\n",
    "\n",
    "# Plot images\n",
    "plt.figure(figsize=(10,10))\n",
    "plt.subplot(2,3,1)\n",
    "plt.imshow(img1_gray, cmap='gray', vmin=0, vmax=255)\n",
    "plt.title(\"NIR img1\", fontsize = 15)\n",
    "plt.xticks([]), plt.yticks([])\n",
    "plt.subplot(2,3,2)\n",
    "plt.imshow(img2_gray, cmap='gray', vmin=0, vmax=255)\n",
    "plt.title(\"NIR img2\", fontsize = 15)\n",
    "plt.xticks([]), plt.yticks([])\n",
    "plt.subplot(2,3,3)\n",
    "plt.imshow(img3_gray, cmap='gray', vmin=0, vmax=255)\n",
    "plt.title(\"NIR img3\", fontsize = 15)\n",
    "plt.xticks([]), plt.yticks([])\n",
    "plt.show()\n",
    "\n",
    "hi\n"
   ]
  }
 ],
 "metadata": {
  "kernelspec": {
   "display_name": "Python 3",
   "language": "python",
   "name": "python3"
  },
  "language_info": {
   "codemirror_mode": {
    "name": "ipython",
    "version": 3
   },
   "file_extension": ".py",
   "mimetype": "text/x-python",
   "name": "python",
   "nbconvert_exporter": "python",
   "pygments_lexer": "ipython3",
   "version": "3.8.5"
  }
 },
 "nbformat": 4,
 "nbformat_minor": 4
}
